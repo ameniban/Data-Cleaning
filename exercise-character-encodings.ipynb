{
 "cells": [
  {
   "cell_type": "markdown",
   "id": "d3b38534",
   "metadata": {
    "papermill": {
     "duration": 0.005939,
     "end_time": "2022-10-05T13:22:57.577026",
     "exception": false,
     "start_time": "2022-10-05T13:22:57.571087",
     "status": "completed"
    },
    "tags": []
   },
   "source": [
    "**This notebook is an exercise in the [Data Cleaning](https://www.kaggle.com/learn/data-cleaning) course.  You can reference the tutorial at [this link](https://www.kaggle.com/alexisbcook/character-encodings).**\n",
    "\n",
    "---\n"
   ]
  },
  {
   "cell_type": "markdown",
   "id": "6dd86785",
   "metadata": {
    "papermill": {
     "duration": 0.004428,
     "end_time": "2022-10-05T13:22:57.586391",
     "exception": false,
     "start_time": "2022-10-05T13:22:57.581963",
     "status": "completed"
    },
    "tags": []
   },
   "source": [
    "In this exercise, you'll apply what you learned in the **Character encodings** tutorial.\n",
    "\n",
    "# Setup\n",
    "\n",
    "The questions below will give you feedback on your work. Run the following cell to set up the feedback system."
   ]
  },
  {
   "cell_type": "code",
   "execution_count": 1,
   "id": "c21d611f",
   "metadata": {
    "execution": {
     "iopub.execute_input": "2022-10-05T13:22:57.597951Z",
     "iopub.status.busy": "2022-10-05T13:22:57.597248Z",
     "iopub.status.idle": "2022-10-05T13:22:57.680039Z",
     "shell.execute_reply": "2022-10-05T13:22:57.678924Z"
    },
    "papermill": {
     "duration": 0.091788,
     "end_time": "2022-10-05T13:22:57.682931",
     "exception": false,
     "start_time": "2022-10-05T13:22:57.591143",
     "status": "completed"
    },
    "tags": []
   },
   "outputs": [
    {
     "name": "stdout",
     "output_type": "stream",
     "text": [
      "Setup Complete\n"
     ]
    }
   ],
   "source": [
    "from learntools.core import binder\n",
    "binder.bind(globals())\n",
    "from learntools.data_cleaning.ex4 import *\n",
    "print(\"Setup Complete\")"
   ]
  },
  {
   "cell_type": "markdown",
   "id": "4be16eee",
   "metadata": {
    "papermill": {
     "duration": 0.004855,
     "end_time": "2022-10-05T13:22:57.692710",
     "exception": false,
     "start_time": "2022-10-05T13:22:57.687855",
     "status": "completed"
    },
    "tags": []
   },
   "source": [
    "# Get our environment set up\n",
    "\n",
    "The first thing we'll need to do is load in the libraries we'll be using."
   ]
  },
  {
   "cell_type": "code",
   "execution_count": 2,
   "id": "eb0fd612",
   "metadata": {
    "execution": {
     "iopub.execute_input": "2022-10-05T13:22:57.704077Z",
     "iopub.status.busy": "2022-10-05T13:22:57.703687Z",
     "iopub.status.idle": "2022-10-05T13:22:57.708781Z",
     "shell.execute_reply": "2022-10-05T13:22:57.707709Z"
    },
    "papermill": {
     "duration": 0.01343,
     "end_time": "2022-10-05T13:22:57.711050",
     "exception": false,
     "start_time": "2022-10-05T13:22:57.697620",
     "status": "completed"
    },
    "tags": []
   },
   "outputs": [],
   "source": [
    "# modules we'll use\n",
    "import pandas as pd\n",
    "import numpy as np\n",
    "\n",
    "# helpful character encoding module\n",
    "import chardet\n",
    "\n",
    "# set seed for reproducibility\n",
    "np.random.seed(0)"
   ]
  },
  {
   "cell_type": "markdown",
   "id": "581dd87a",
   "metadata": {
    "papermill": {
     "duration": 0.004591,
     "end_time": "2022-10-05T13:22:57.720498",
     "exception": false,
     "start_time": "2022-10-05T13:22:57.715907",
     "status": "completed"
    },
    "tags": []
   },
   "source": [
    "# 1) What are encodings?\n",
    "\n",
    "You're working with a dataset composed of bytes.  Run the code cell below to print a sample entry."
   ]
  },
  {
   "cell_type": "code",
   "execution_count": 3,
   "id": "1af07e03",
   "metadata": {
    "execution": {
     "iopub.execute_input": "2022-10-05T13:22:57.731712Z",
     "iopub.status.busy": "2022-10-05T13:22:57.731310Z",
     "iopub.status.idle": "2022-10-05T13:22:57.737601Z",
     "shell.execute_reply": "2022-10-05T13:22:57.736384Z"
    },
    "papermill": {
     "duration": 0.014861,
     "end_time": "2022-10-05T13:22:57.740073",
     "exception": false,
     "start_time": "2022-10-05T13:22:57.725212",
     "status": "completed"
    },
    "tags": []
   },
   "outputs": [
    {
     "name": "stdout",
     "output_type": "stream",
     "text": [
      "b'\\xa7A\\xa6n'\n",
      "data type: <class 'bytes'>\n"
     ]
    }
   ],
   "source": [
    "sample_entry = b'\\xa7A\\xa6n'\n",
    "print(sample_entry)\n",
    "print('data type:', type(sample_entry))"
   ]
  },
  {
   "cell_type": "markdown",
   "id": "c885bbbf",
   "metadata": {
    "papermill": {
     "duration": 0.004841,
     "end_time": "2022-10-05T13:22:57.749889",
     "exception": false,
     "start_time": "2022-10-05T13:22:57.745048",
     "status": "completed"
    },
    "tags": []
   },
   "source": [
    "You notice that it doesn't use the standard UTF-8 encoding. \n",
    "\n",
    "Use the next code cell to create a variable `new_entry` that changes the encoding from `\"big5-tw\"` to `\"utf-8\"`.  `new_entry` should have the bytes datatype."
   ]
  },
  {
   "cell_type": "code",
   "execution_count": 4,
   "id": "98c82e17",
   "metadata": {
    "execution": {
     "iopub.execute_input": "2022-10-05T13:22:57.761508Z",
     "iopub.status.busy": "2022-10-05T13:22:57.760837Z",
     "iopub.status.idle": "2022-10-05T13:22:57.772550Z",
     "shell.execute_reply": "2022-10-05T13:22:57.771623Z"
    },
    "papermill": {
     "duration": 0.020057,
     "end_time": "2022-10-05T13:22:57.774611",
     "exception": false,
     "start_time": "2022-10-05T13:22:57.754554",
     "status": "completed"
    },
    "tags": []
   },
   "outputs": [
    {
     "data": {
      "application/javascript": [
       "parent.postMessage({\"jupyterEvent\": \"custom.exercise_interaction\", \"data\": {\"outcomeType\": 1, \"valueTowardsCompletion\": 0.3333333333333333, \"interactionType\": 1, \"questionType\": 1, \"questionId\": \"1_EncodingsIntro\", \"learnToolsVersion\": \"0.3.4\", \"failureMessage\": \"\", \"exceptionClass\": \"\", \"trace\": \"\"}}, \"*\")"
      ],
      "text/plain": [
       "<IPython.core.display.Javascript object>"
      ]
     },
     "metadata": {},
     "output_type": "display_data"
    },
    {
     "data": {
      "text/markdown": [
       "<span style=\"color:#33cc33\">Correct</span>"
      ],
      "text/plain": [
       "Correct"
      ]
     },
     "metadata": {},
     "output_type": "display_data"
    }
   ],
   "source": [
    "before = sample_entry.decode(\"big5-tw\")\n",
    "new_entry = before.encode()\n",
    "\n",
    "type (new_entry)\n",
    "\n",
    "# Check your answer\n",
    "q1.check()"
   ]
  },
  {
   "cell_type": "code",
   "execution_count": 5,
   "id": "feb7ce45",
   "metadata": {
    "execution": {
     "iopub.execute_input": "2022-10-05T13:22:57.786615Z",
     "iopub.status.busy": "2022-10-05T13:22:57.785987Z",
     "iopub.status.idle": "2022-10-05T13:22:57.798698Z",
     "shell.execute_reply": "2022-10-05T13:22:57.797637Z"
    },
    "papermill": {
     "duration": 0.021655,
     "end_time": "2022-10-05T13:22:57.801268",
     "exception": false,
     "start_time": "2022-10-05T13:22:57.779613",
     "status": "completed"
    },
    "tags": []
   },
   "outputs": [
    {
     "data": {
      "application/javascript": [
       "parent.postMessage({\"jupyterEvent\": \"custom.exercise_interaction\", \"data\": {\"interactionType\": 2, \"questionType\": 1, \"questionId\": \"1_EncodingsIntro\", \"learnToolsVersion\": \"0.3.4\", \"valueTowardsCompletion\": 0.0, \"failureMessage\": \"\", \"exceptionClass\": \"\", \"trace\": \"\", \"outcomeType\": 4}}, \"*\")"
      ],
      "text/plain": [
       "<IPython.core.display.Javascript object>"
      ]
     },
     "metadata": {},
     "output_type": "display_data"
    },
    {
     "data": {
      "text/markdown": [
       "<span style=\"color:#3366cc\">Hint:</span> Try using `.decode()` to get the string, then `.encode()` to get the bytes representation, encoded in UTF-8."
      ],
      "text/plain": [
       "Hint: Try using `.decode()` to get the string, then `.encode()` to get the bytes representation, encoded in UTF-8."
      ]
     },
     "metadata": {},
     "output_type": "display_data"
    },
    {
     "data": {
      "application/javascript": [
       "parent.postMessage({\"jupyterEvent\": \"custom.exercise_interaction\", \"data\": {\"interactionType\": 3, \"questionType\": 1, \"questionId\": \"1_EncodingsIntro\", \"learnToolsVersion\": \"0.3.4\", \"valueTowardsCompletion\": 0.0, \"failureMessage\": \"\", \"exceptionClass\": \"\", \"trace\": \"\", \"outcomeType\": 4}}, \"*\")"
      ],
      "text/plain": [
       "<IPython.core.display.Javascript object>"
      ]
     },
     "metadata": {},
     "output_type": "display_data"
    },
    {
     "data": {
      "text/markdown": [
       "<span style=\"color:#33cc99\">Solution:</span> \n",
       "```python\n",
       "before = sample_entry.decode(\"big5-tw\")\n",
       "new_entry = before.encode()\n",
       "\n",
       "```"
      ],
      "text/plain": [
       "Solution: \n",
       "```python\n",
       "before = sample_entry.decode(\"big5-tw\")\n",
       "new_entry = before.encode()\n",
       "\n",
       "```"
      ]
     },
     "metadata": {},
     "output_type": "display_data"
    }
   ],
   "source": [
    "# Lines below will give you a hint or solution code\n",
    "q1.hint()\n",
    "q1.solution()"
   ]
  },
  {
   "cell_type": "markdown",
   "id": "7732aa02",
   "metadata": {
    "papermill": {
     "duration": 0.005501,
     "end_time": "2022-10-05T13:22:57.813280",
     "exception": false,
     "start_time": "2022-10-05T13:22:57.807779",
     "status": "completed"
    },
    "tags": []
   },
   "source": [
    "# 2) Reading in files with encoding problems\n",
    "\n",
    "Use the code cell below to read in this file at path `\"../input/fatal-police-shootings-in-the-us/PoliceKillingsUS.csv\"`.  \n",
    "\n",
    "Figure out what the correct encoding should be and read in the file to a DataFrame `police_killings`."
   ]
  },
  {
   "cell_type": "code",
   "execution_count": 6,
   "id": "daa87b65",
   "metadata": {
    "execution": {
     "iopub.execute_input": "2022-10-05T13:22:57.826227Z",
     "iopub.status.busy": "2022-10-05T13:22:57.825497Z",
     "iopub.status.idle": "2022-10-05T13:22:59.395282Z",
     "shell.execute_reply": "2022-10-05T13:22:59.393745Z"
    },
    "papermill": {
     "duration": 1.580902,
     "end_time": "2022-10-05T13:22:59.399639",
     "exception": false,
     "start_time": "2022-10-05T13:22:57.818737",
     "status": "completed"
    },
    "tags": []
   },
   "outputs": [
    {
     "name": "stdout",
     "output_type": "stream",
     "text": [
      "{'encoding': 'Windows-1252', 'confidence': 0.73, 'language': ''}\n"
     ]
    }
   ],
   "source": [
    "# TODO: Load in the DataFrame correctly.\n",
    "with open (\"../input/fatal-police-shootings-in-the-us/PoliceKillingsUS.csv\",\"rb\") as rawdata:\n",
    "    result=chardet.detect(rawdata.read(100000))\n",
    "print(result)\n",
    "\n"
   ]
  },
  {
   "cell_type": "markdown",
   "id": "6ba5b8b9",
   "metadata": {
    "papermill": {
     "duration": 0.005455,
     "end_time": "2022-10-05T13:22:59.411456",
     "exception": false,
     "start_time": "2022-10-05T13:22:59.406001",
     "status": "completed"
    },
    "tags": []
   },
   "source": [
    "Feel free to use any additional code cells for supplemental work.  To get credit for finishing this question, you'll need to run `q2.check()` and get a result of **Correct**."
   ]
  },
  {
   "cell_type": "code",
   "execution_count": 7,
   "id": "36779ea6",
   "metadata": {
    "execution": {
     "iopub.execute_input": "2022-10-05T13:22:59.425622Z",
     "iopub.status.busy": "2022-10-05T13:22:59.425209Z",
     "iopub.status.idle": "2022-10-05T13:22:59.447716Z",
     "shell.execute_reply": "2022-10-05T13:22:59.446554Z"
    },
    "papermill": {
     "duration": 0.03195,
     "end_time": "2022-10-05T13:22:59.450016",
     "exception": false,
     "start_time": "2022-10-05T13:22:59.418066",
     "status": "completed"
    },
    "tags": []
   },
   "outputs": [
    {
     "data": {
      "application/javascript": [
       "parent.postMessage({\"jupyterEvent\": \"custom.exercise_interaction\", \"data\": {\"outcomeType\": 1, \"valueTowardsCompletion\": 0.3333333333333333, \"interactionType\": 1, \"questionType\": 1, \"questionId\": \"2_ReadIn\", \"learnToolsVersion\": \"0.3.4\", \"failureMessage\": \"\", \"exceptionClass\": \"\", \"trace\": \"\"}}, \"*\")"
      ],
      "text/plain": [
       "<IPython.core.display.Javascript object>"
      ]
     },
     "metadata": {},
     "output_type": "display_data"
    },
    {
     "data": {
      "text/markdown": [
       "<span style=\"color:#33cc33\">Correct</span>"
      ],
      "text/plain": [
       "Correct"
      ]
     },
     "metadata": {},
     "output_type": "display_data"
    }
   ],
   "source": [
    "# (Optional) Use this code cell for any additional work.\n",
    "police_killings = pd.read_csv(\"../input/fatal-police-shootings-in-the-us/PoliceKillingsUS.csv\", encoding='Windows-1252')\n",
    "\n",
    "# look at the first few lines\n",
    "police_killings.head()\n",
    "# Check your answer\n",
    "q2.check()"
   ]
  },
  {
   "cell_type": "code",
   "execution_count": 8,
   "id": "d0ca36e0",
   "metadata": {
    "execution": {
     "iopub.execute_input": "2022-10-05T13:22:59.463574Z",
     "iopub.status.busy": "2022-10-05T13:22:59.462567Z",
     "iopub.status.idle": "2022-10-05T13:22:59.467196Z",
     "shell.execute_reply": "2022-10-05T13:22:59.466139Z"
    },
    "papermill": {
     "duration": 0.01381,
     "end_time": "2022-10-05T13:22:59.469493",
     "exception": false,
     "start_time": "2022-10-05T13:22:59.455683",
     "status": "completed"
    },
    "tags": []
   },
   "outputs": [],
   "source": [
    "# Lines below will give you a hint or solution code\n",
    "#q2.hint()\n",
    "#q2.solution()"
   ]
  },
  {
   "cell_type": "markdown",
   "id": "fc791ed2",
   "metadata": {
    "papermill": {
     "duration": 0.006141,
     "end_time": "2022-10-05T13:22:59.482876",
     "exception": false,
     "start_time": "2022-10-05T13:22:59.476735",
     "status": "completed"
    },
    "tags": []
   },
   "source": [
    "# 3) Saving your files with UTF-8 encoding\n",
    "\n",
    "Save a version of the police killings dataset to CSV with UTF-8 encoding.  Your answer will be marked correct after saving this file.  \n",
    "\n",
    "Note: When using the `to_csv()` method, supply only the name of the file (e.g., `\"my_file.csv\"`).  This saves the file at the filepath `\"/kaggle/working/my_file.csv\"`."
   ]
  },
  {
   "cell_type": "code",
   "execution_count": 9,
   "id": "3804f933",
   "metadata": {
    "execution": {
     "iopub.execute_input": "2022-10-05T13:22:59.495797Z",
     "iopub.status.busy": "2022-10-05T13:22:59.495437Z",
     "iopub.status.idle": "2022-10-05T13:22:59.527903Z",
     "shell.execute_reply": "2022-10-05T13:22:59.526776Z"
    },
    "papermill": {
     "duration": 0.041556,
     "end_time": "2022-10-05T13:22:59.530162",
     "exception": false,
     "start_time": "2022-10-05T13:22:59.488606",
     "status": "completed"
    },
    "tags": []
   },
   "outputs": [
    {
     "data": {
      "application/javascript": [
       "parent.postMessage({\"jupyterEvent\": \"custom.exercise_interaction\", \"data\": {\"outcomeType\": 1, \"valueTowardsCompletion\": 0.3333333333333333, \"interactionType\": 1, \"questionType\": 2, \"questionId\": \"3_SaveCSV\", \"learnToolsVersion\": \"0.3.4\", \"failureMessage\": \"\", \"exceptionClass\": \"\", \"trace\": \"\"}}, \"*\")"
      ],
      "text/plain": [
       "<IPython.core.display.Javascript object>"
      ]
     },
     "metadata": {},
     "output_type": "display_data"
    },
    {
     "data": {
      "text/markdown": [
       "<span style=\"color:#33cc33\">Correct</span>"
      ],
      "text/plain": [
       "Correct"
      ]
     },
     "metadata": {},
     "output_type": "display_data"
    }
   ],
   "source": [
    "# TODO: Save the police killings dataset to CSV\n",
    "police_killings.to_csv(\"police_killings.csv\")\n",
    "# Check your answer\n",
    "q3.check()"
   ]
  },
  {
   "cell_type": "code",
   "execution_count": 10,
   "id": "6099f0bc",
   "metadata": {
    "execution": {
     "iopub.execute_input": "2022-10-05T13:22:59.543708Z",
     "iopub.status.busy": "2022-10-05T13:22:59.542999Z",
     "iopub.status.idle": "2022-10-05T13:22:59.547492Z",
     "shell.execute_reply": "2022-10-05T13:22:59.546410Z"
    },
    "papermill": {
     "duration": 0.013609,
     "end_time": "2022-10-05T13:22:59.549683",
     "exception": false,
     "start_time": "2022-10-05T13:22:59.536074",
     "status": "completed"
    },
    "tags": []
   },
   "outputs": [],
   "source": [
    "# Lines below will give you a hint or solution code\n",
    "#q3.hint()\n",
    "#q3.solution()"
   ]
  },
  {
   "cell_type": "markdown",
   "id": "d0a060ca",
   "metadata": {
    "papermill": {
     "duration": 0.005633,
     "end_time": "2022-10-05T13:22:59.561297",
     "exception": false,
     "start_time": "2022-10-05T13:22:59.555664",
     "status": "completed"
    },
    "tags": []
   },
   "source": [
    "# (Optional) More practice\n",
    "\n",
    "Check out [this dataset of files in different character encodings](https://www.kaggle.com/rtatman/character-encoding-examples). Can you read in all the files with their original encodings and them save them out as UTF-8 files?\n",
    "\n",
    "If you have a file that's in UTF-8 but has just a couple of weird-looking characters in it, you can try out the [ftfy module](https://ftfy.readthedocs.io/en/latest/#) and see if it helps. \n",
    "\n",
    "# Keep going\n",
    "\n",
    "In the final lesson, learn how to [**clean up inconsistent text entries**](https://www.kaggle.com/alexisbcook/inconsistent-data-entry) in your dataset."
   ]
  },
  {
   "cell_type": "markdown",
   "id": "a359dc94",
   "metadata": {
    "papermill": {
     "duration": 0.005552,
     "end_time": "2022-10-05T13:22:59.572652",
     "exception": false,
     "start_time": "2022-10-05T13:22:59.567100",
     "status": "completed"
    },
    "tags": []
   },
   "source": [
    "---\n",
    "\n",
    "\n",
    "\n",
    "\n",
    "*Have questions or comments? Visit the [course discussion forum](https://www.kaggle.com/learn/data-cleaning/discussion) to chat with other learners.*"
   ]
  }
 ],
 "metadata": {
  "kernelspec": {
   "display_name": "Python 3",
   "language": "python",
   "name": "python3"
  },
  "language_info": {
   "codemirror_mode": {
    "name": "ipython",
    "version": 3
   },
   "file_extension": ".py",
   "mimetype": "text/x-python",
   "name": "python",
   "nbconvert_exporter": "python",
   "pygments_lexer": "ipython3",
   "version": "3.7.12"
  },
  "papermill": {
   "default_parameters": {},
   "duration": 11.281014,
   "end_time": "2022-10-05T13:23:00.199669",
   "environment_variables": {},
   "exception": null,
   "input_path": "__notebook__.ipynb",
   "output_path": "__notebook__.ipynb",
   "parameters": {},
   "start_time": "2022-10-05T13:22:48.918655",
   "version": "2.3.4"
  }
 },
 "nbformat": 4,
 "nbformat_minor": 5
}
